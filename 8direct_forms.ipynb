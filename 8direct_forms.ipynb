{
  "nbformat": 4,
  "nbformat_minor": 0,
  "metadata": {
    "kernelspec": {
      "display_name": "Python 3",
      "language": "python",
      "name": "python3"
    },
    "language_info": {
      "codemirror_mode": {
        "name": "ipython",
        "version": 3
      },
      "file_extension": ".py",
      "mimetype": "text/x-python",
      "name": "python",
      "nbconvert_exporter": "python",
      "pygments_lexer": "ipython3",
      "version": "3.7.1"
    },
    "colab": {
      "name": "8direct_forms.ipynb",
      "provenance": [],
      "collapsed_sections": [],
      "include_colab_link": true
    }
  },
  "cells": [
    {
      "cell_type": "markdown",
      "metadata": {
        "id": "view-in-github",
        "colab_type": "text"
      },
      "source": [
        "<a href=\"https://colab.research.google.com/github/jjlopezre/PDS/blob/main/8direct_forms.ipynb\" target=\"_parent\"><img src=\"https://colab.research.google.com/assets/colab-badge.svg\" alt=\"Open In Colab\"/></a>"
      ]
    },
    {
      "cell_type": "markdown",
      "metadata": {
        "nbsphinx": "hidden",
        "id": "M4sKNJf1-Muk"
      },
      "source": [
        "# Realization of Recursive Filters\n",
        "\n",
        "*This jupyter notebook is part of a [collection of notebooks](../index.ipynb) on various topics of Digital Signal Processing. Please direct questions and suggestions to [Sascha.Spors@uni-rostock.de](mailto:Sascha.Spors@uni-rostock.de).*"
      ]
    },
    {
      "cell_type": "markdown",
      "metadata": {
        "id": "CAh-on6q-Mup"
      },
      "source": [
        "## Direct Form Structures\n",
        "\n",
        "The output signal $y[k] = \\mathcal{H} \\{ x[k] \\}$ of a recursive linear-time invariant (LTI) system is given by\n",
        "\n",
        "\\begin{equation}\n",
        "y[k] = \\frac{1}{a_0} \\left( \\sum_{m=0}^{M} b_m \\; x[k-m] - \\sum_{n=1}^{N} a_n \\; y[k-n] \\right)\n",
        "\\end{equation}\n",
        "\n",
        "where $a_n$ and $b_m$ denote constant coefficients and $N$ the order. Note that systems with $M > N$ are in general not stable. The computational realization of above equation requires additions, multiplications, the actual and past samples of the input signal $x[k]$, and the past samples of the output signal $y[k]$. Technically this can be realized by\n",
        "\n",
        "* adders\n",
        "* multipliers, and\n",
        "* unit delays or storage elements.\n",
        "\n",
        "These can be arranged in different topologies. A certain class of structures, which is introduced in the following, is known as *direct form structures*. Other known forms are for instance [cascaded sections](cascaded_structures.ipynb), parallel sections, lattice structures and state-space structures.\n",
        "\n",
        "For the following it is assumed that $a_0 = 1$. This can be achieved for instance by dividing the remaining coefficients by $a_0$."
      ]
    },
    {
      "cell_type": "markdown",
      "metadata": {
        "id": "XAjyuIBg-Mur"
      },
      "source": [
        "### Direct Form I\n",
        "\n",
        "The [direct form I](https://en.wikipedia.org/wiki/Digital_filter#Direct_Form_I) is derived by rearranging above equation for $a_0 = 1$\n",
        "\n",
        "\\begin{equation}\n",
        "y[k] = \\sum_{m=0}^{M} b_m \\; x[k-m] + \\sum_{n=1}^{N} - a_n \\; y[k-n]\n",
        "\\end{equation}\n",
        "\n",
        "It is now evident that we can realize the recursive filter by a superposition of a non-recursive and a recursive part. With the elements given above, this results in the following block-diagram\n",
        "\n",
        "![Direct form I filter](https://github.com/amalvarezme/ProcesoDigitalSen/blob/master/PDS_Notebooks/recursive_filters/direct_form_i.png?raw=1)\n",
        "\n",
        "This representation is not canonical since $N + M$ unit delays are required to realize a system of order $N$. A benefit of the direct form I is that there is essentially only one summation point which has to be taken care of when considering quantized variables and overflow. The output signal $y[k]$ for the direct form I is computed by realizing above equation.\n",
        "\n",
        "The block diagram of the direct form I can be interpreted as the cascade of two systems. Denoting the signal in between both as $w[k]$ and discarding initial values we get\n",
        "\n",
        "\\begin{align}\n",
        "w[k] &= \\sum_{m=0}^{M} b_m \\; x[k-m] = h_1[k] * x[k] \\\\\n",
        "y[k] &= w[k] + \\sum_{n=1}^{N} - a_n \\; w[k-n] = h_2[k] * w[k] = h_2[k] * h_1[k] * x[k]\n",
        "\\end{align}\n",
        "\n",
        "where $h_1[k] = [b_0, b_1, \\dots, b_M]$ denotes the impulse response of the non-recursive part and $h_2[k] = [1, -a_1, \\dots, -a_N]$ for the recursive part. From the last equality of the second equation and the commutativity of the convolution it becomes clear that the order of the cascade can be exchanged."
      ]
    },
    {
      "cell_type": "markdown",
      "metadata": {
        "id": "Lp1wz63Q-Mut"
      },
      "source": [
        "### Direct Form II\n",
        "\n",
        "The [direct form II](https://en.wikipedia.org/wiki/Digital_filter#Direct_Form_II) is yielded by exchanging the two systems in above block diagram and noticing that there are two parallel columns of delays which can be combined, since they are redundant. For $N=M$ it is given as\n",
        "\n",
        "![Direct form II filter](https://github.com/amalvarezme/ProcesoDigitalSen/blob/master/PDS_Notebooks/recursive_filters/direct_form_ii.png?raw=1)\n",
        "\n",
        "Other cases with $N \\neq M$ can be considered for by setting coefficients to zero. This form is a canonical structure since it only requires $N$ unit delays for a recursive filter of order $N$. The output signal $y[k]$ for the direct form II is computed by the following equations\n",
        "\n",
        "\\begin{align}\n",
        "w[k] &= x[k] + \\sum_{n=1}^{N} - a_n \\; w[k-n] \\\\\n",
        "y[k] &= \\sum_{m=0}^{M} b_m \\; w[k-m]\n",
        "\\end{align}\n",
        "\n",
        "The samples $w[k-m]$ are termed *state* (variables) of a digital filter."
      ]
    },
    {
      "cell_type": "markdown",
      "metadata": {
        "id": "S5v2HXO--Muu"
      },
      "source": [
        "### Transposed Direct Form II\n",
        "\n",
        "The block diagrams above can be interpreted as linear [signal flow graphs](https://en.wikipedia.org/wiki/Signal-flow_graph). The theory of these graphs provides useful transformations into different forms which preserve the overall transfer function. Of special interest is the *transposition* or *reversal* of a graph which can be achieved by\n",
        "\n",
        "* exchanging in- and output,\n",
        "* exchanging signal split and summation points, and\n",
        "* reversing the directions of the signal flows.\n",
        "\n",
        "Applying this procedure to the direct form II shown above for $N=M$ yields the transposed direct form II\n",
        "\n",
        "![Transposed direct form II filter](https://github.com/amalvarezme/ProcesoDigitalSen/blob/master/PDS_Notebooks/recursive_filters/direct_form_ii_t.png?raw=1)\n",
        "\n",
        "The output signal of the transposed direct form II is given as\n",
        "\n",
        "\\begin{equation}\n",
        "y[k] = b_0 x[k] + \\sum_{m=1}^{M} b_m x[k-n] - \\sum_{n=1}^{N} a_n y[k-n]\n",
        "\\end{equation}\n",
        "\n",
        "Using the signal before the $n$-th delay unit as internal state $w_n[k]$ we can reformulate this into a set of difference equations for computation of the output signal\n",
        "\n",
        "\\begin{align}\n",
        "w_n[k] &= \n",
        "\\begin{cases}\n",
        "w_{n+1}[k-1] - a_n y[k] + b_n x[k] & \\text{for } n=0,1,\\dots,N-1 \\\\\n",
        "-a_N y[k]  + b_N x[k] & \\text{for } n=N\n",
        "\\end{cases}\\\\\n",
        "y[k] &= w_1[k-1] + b_0 x[k]\n",
        "\\end{align}"
      ]
    },
    {
      "cell_type": "markdown",
      "metadata": {
        "id": "2oB2gTl5-Muv"
      },
      "source": [
        "#### Example - Computation of output signal\n",
        "\n",
        "The following example illustrates the computation of the impulse response $h[k]$ of a 2nd-order recursive system using the transposed direct form II as realized by `scipy.signal.lfilter`."
      ]
    },
    {
      "cell_type": "code",
      "metadata": {
        "id": "J_0-BLVC-Mux",
        "outputId": "eca22e42-34f7-4f66-9287-0433f75bb683"
      },
      "source": [
        "%matplotlib inline\n",
        "import numpy as np\n",
        "import matplotlib.pyplot as plt\n",
        "import scipy.signal as sig\n",
        "\n",
        "p = 0.90*np.exp(-1j*np.pi/4)\n",
        "a = np.poly([p, np.conj(p)])  # denominator coefficients\n",
        "b = [1, 0, 0]  # numerator coefficients\n",
        "N = 40  # number of computed samples\n",
        "\n",
        "# generate input signal (= Dirac impulse)\n",
        "k = np.arange(N)\n",
        "x = np.where(k==0, 1.0, 0.0)\n",
        "\n",
        "# filter signal using transposed direct form II\n",
        "h = sig.lfilter(b, a, x)\n",
        "\n",
        "# plot output signal\n",
        "plt.figure(figsize=(8, 4))\n",
        "plt.stem(h)\n",
        "plt.title('Impulse response')\n",
        "plt.xlabel(r'$k$')\n",
        "plt.ylabel(r'$h[k]$')\n",
        "plt.axis([-1, N, -1.5, 1.5])\n",
        "plt.grid()"
      ],
      "execution_count": null,
      "outputs": [
        {
          "data": {
            "image/png": "[encoded data removed]",
            "text/plain": [
              "<Figure size 576x288 with 1 Axes>"
            ]
          },
          "metadata": {
            "needs_background": "light"
          },
          "output_type": "display_data"
        }
      ]
    },
    {
      "cell_type": "markdown",
      "metadata": {
        "id": "B5KkrSwZ-Muz"
      },
      "source": [
        "**Exercise**\n",
        "\n",
        "* Compute the step-response $h_\\epsilon[k] = \\mathcal{H} \\{ \\epsilon[k] \\}$ of the filter by modifying above example.\n",
        "\n",
        "Solution: The step response can be computed by changing the input signal to \n",
        "\n",
        "```python\n",
        "x = np.where(k>=0, 1.0, 0.0)\n",
        "``` \n",
        "\n",
        "or by cumulative summation of the impulse response due to the relation $h_\\epsilon[k] = \\sum_{\\kappa =0}^k h[k]$ of the step response to the impulse response\n",
        "\n",
        "```python\n",
        "he = np.cumsum(h)\n",
        "```"
      ]
    },
    {
      "cell_type": "markdown",
      "metadata": {
        "id": "179GUB6T-8BZ"
      },
      "source": [
        "**Respuesta al escalon**"
      ]
    },
    {
      "cell_type": "code",
      "metadata": {
        "colab": {
          "base_uri": "https://localhost:8080/",
          "height": 351
        },
        "id": "ywz3LnET-6nD",
        "outputId": "9b1a043f-522d-49f4-afef-892a860dd378"
      },
      "source": [
        "%matplotlib inline\n",
        "import numpy as np\n",
        "import matplotlib.pyplot as plt\n",
        "import scipy.signal as sig\n",
        "\n",
        "p = 0.90*np.exp(-1j*np.pi/4)\n",
        "a = np.poly([p, np.conj(p)])  # denominator coefficients\n",
        "b = [1, 0, 0]  # numerator coefficients\n",
        "N = 40  # number of computed samples\n",
        "# generate input signal (= Dirac impulse)\n",
        "k = np.arange(N)\n",
        "x = np.where(k>=0, 1.0, 0.0)\n",
        "#he = np.cumsum(h)\n",
        "\n",
        "# filter signal using transposed direct form II\n",
        "h = sig.lfilter(b, a, x)\n",
        "\n",
        "# plot output signal\n",
        "plt.figure(figsize=(8, 4))\n",
        "plt.stem(h)\n",
        "plt.title('Impulse response')\n",
        "plt.xlabel(r'$k$')\n",
        "plt.ylabel(r'$h[k]$')\n",
        "plt.axis([-1, N, -1.5, 1.5])\n",
        "plt.grid()\n",
        "plt.ylim((0,3.5))\n"
      ],
      "execution_count": null,
      "outputs": [
        {
          "output_type": "stream",
          "text": [
            "/usr/local/lib/python3.7/dist-packages/ipykernel_launcher.py:20: UserWarning: In Matplotlib 3.3 individual lines on a stem plot will be added as a LineCollection instead of individual lines. This significantly improves the performance of a stem plot. To remove this warning and switch to the new behaviour, set the \"use_line_collection\" keyword argument to True.\n"
          ],
          "name": "stderr"
        },
        {
          "output_type": "execute_result",
          "data": {
            "text/plain": [
              "(0.0, 3.5)"
            ]
          },
          "metadata": {},
          "execution_count": 19
        },
        {
          "output_type": "display_data",
          "data": {
            "image/png": "[encoded data removed]",
            "text/plain": [
              "<Figure size 576x288 with 1 Axes>"
            ]
          },
          "metadata": {
            "needs_background": "light"
          }
        }
      ]
    },
    {
      "cell_type": "markdown",
      "metadata": {
        "nbsphinx": "hidden",
        "id": "UwAyL8KG-Mu1"
      },
      "source": [
        "**Copyright**\n",
        "\n",
        "This notebook is provided as [Open Educational Resource](https://en.wikipedia.org/wiki/Open_educational_resources). Feel free to use the notebook for your own purposes. The text is licensed under [Creative Commons Attribution 4.0](https://creativecommons.org/licenses/by/4.0/), the code of the IPython examples under the [MIT license](https://opensource.org/licenses/MIT). Please attribute the work as follows: *Sascha Spors, Digital Signal Processing - Lecture notes featuring computational examples, 2016-2018*."
      ]
    }
  ]
}