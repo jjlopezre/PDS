{
  "nbformat": 4,
  "nbformat_minor": 0,
  "metadata": {
    "anaconda-cloud": {},
    "kernelspec": {
      "display_name": "Python 3",
      "language": "python",
      "name": "python3"
    },
    "language_info": {
      "codemirror_mode": {
        "name": "ipython",
        "version": 3
      },
      "file_extension": ".py",
      "mimetype": "text/x-python",
      "name": "python",
      "nbconvert_exporter": "python",
      "pygments_lexer": "ipython3",
      "version": "3.6.4"
    },
    "colab": {
      "name": "4welch_method.ipynb",
      "provenance": [],
      "collapsed_sections": [],
      "include_colab_link": true
    }
  },
  "cells": [
    {
      "cell_type": "markdown",
      "metadata": {
        "id": "view-in-github",
        "colab_type": "text"
      },
      "source": [
        "<a href=\"https://colab.research.google.com/github/jjlopezre/PDS/blob/main/4welch_method.ipynb\" target=\"_parent\"><img src=\"https://colab.research.google.com/assets/colab-badge.svg\" alt=\"Open In Colab\"/></a>"
      ]
    },
    {
      "cell_type": "markdown",
      "metadata": {
        "nbsphinx": "hidden",
        "id": "8HhKv_3HyKD2"
      },
      "source": [
        "# Spectral Estimation of Random Signals\n",
        "\n",
        "*This jupyter notebook is part of a [collection of notebooks](../index.ipynb) on various topics of Digital Signal Processing. Please direct questions and suggestions to [Sascha.Spors@uni-rostock.de](mailto:Sascha.Spors@uni-rostock.de).*"
      ]
    },
    {
      "cell_type": "markdown",
      "metadata": {
        "id": "1urE5T7RyKD6"
      },
      "source": [
        "## The Welch Method\n",
        "\n",
        "In the previous section it has been shown that the [periodogram](periodogram.ipynb) as a non-parametric estimator of the power spectral density (PSD) $\\Phi_{xx}(\\mathrm{e}^{\\,\\mathrm{j}\\,\\Omega})$ of a random signal $x[k]$ is not consistent. This is due to the fact that its variance does not converge towards zero even when the length of the random signal is increased towards infinity. In order to overcome this problem, the [Bartlett method](https://en.wikipedia.org/wiki/Bartlett's_method) and [Welch method](https://en.wikipedia.org/wiki/Welch's_method) \n",
        "\n",
        "1. split the random signal into segments, \n",
        "2. estimate the PSD for each segment, and \n",
        "3. average over these local estimates. \n",
        "\n",
        "The averaging reduces the variance of the estimated PSD. While Barlett's method uses non-overlapping segments, Welch's is a generalization using windowed overlapping segments. For the discussion of Welch's method we assume a wide-sense ergodic real-valued random process."
      ]
    },
    {
      "cell_type": "markdown",
      "metadata": {
        "id": "FCceqpjTyKD8"
      },
      "source": [
        "### Derivation\n",
        "\n",
        "The random signal $x[k]$ is split into into $L$ overlapping segments of length $N$, starting at multiples of the step size $M \\in {1,2, \\dots, N}$. These segments are windowed by the window $w[k]$ of length $N$, resulting in a windowed $l$-th segment $x_l[k]$ with $0\\leq l\\leq L-1$. The discrete-time Fourier transformation (DTFT) $X_l(\\mathrm{e}^{\\,\\mathrm{j}\\,\\Omega})$ of the windowed $l$-th segment is then given as \n",
        "\n",
        "\\begin{equation}\n",
        "X_l(\\mathrm{e}^{\\,\\mathrm{j}\\,\\Omega}) = \\sum_{k = 0}^{N-1} x[k + l \\cdot M] \\, w[k] \\; \\mathrm{e}^{\\,-\\mathrm{j}\\,\\Omega\\,k}\n",
        "\\end{equation}\n",
        "\n",
        "where the window $w[k]$ defined within $0\\leq k\\leq N-1$ should be normalized as $\\frac{1}{N} \\sum\\limits_{k=0}^{N-1} | w[k] |^2 = 1$. The latter condition ensures that the power of the signal is maintained in the estimate. The stepsize $M$ determines the overlap between the segments. In general, $N-M$ number of samples overlap between adjacent segments. For $M = N$ no overlap occurs. The overlap is sometimes given as ratio $\\frac{N-M}{N}\\cdot 100\\%$. \n",
        "\n",
        "Introducing $X_l(\\mathrm{e}^{\\,\\mathrm{j}\\,\\Omega})$ into the definition of the periodogram yields the periodogram of the $l$-th segment\n",
        "\n",
        "\\begin{equation}\n",
        "\\hat{\\Phi}_{xx,l}(\\mathrm{e}^{\\,\\mathrm{j}\\,\\Omega}) = \\frac{1}{N} \\,| X_l(\\mathrm{e}^{\\,\\mathrm{j}\\,\\Omega}) |^2\n",
        "\\end{equation}\n",
        "\n",
        "The estimated PSD is then given by averaging over the segment's periodograms $\\hat{\\Phi}_{xx,l}(\\mathrm{e}^{\\,\\mathrm{j}\\,\\Omega})$ \n",
        "\n",
        "\\begin{equation}\n",
        "\\hat{\\Phi}_{xx}(\\mathrm{e}^{\\,\\mathrm{j}\\,\\Omega}) = \\frac{1}{L} \\sum_{l = 0}^{L-1} \\hat{\\Phi}_{xx,l}(\\mathrm{e}^{\\,\\mathrm{j}\\,\\Omega})\n",
        "\\end{equation}\n",
        "\n",
        "Note, that the total number $L$ of segments has to be chosen such that the last required sample $(L-1)\\cdot M + N - 1$ does not exceed the total length of the random signal. Otherwise the last segment $x_{L-1}[k]$ may be zeropadded towards length $N$.\n",
        "\n",
        "The Bartlett method uses a rectangular window $w[k] = \\text{rect}_N[k]$ and non-overlapping segments $M=N$. The Welch method uses overlapping segments and a window that must be chosen according to the intended spectral analysis task."
      ]
    },
    {
      "cell_type": "markdown",
      "metadata": {
        "id": "NWwk929gyKD-"
      },
      "source": [
        "### Example\n",
        "\n",
        "The following example is equivalent to the previous [periodogram example](periodogram.ipynb#Example---Periodogram). We aim at estimating the PSD of a random process which draws samples from normally distributed white noise with zero-mean and unit variance. The true PSD is consequently given as $\\Phi_{xx}(\\mathrm{e}^{\\,\\mathrm{j}\\,\\Omega}) = 1$."
      ]
    },
    {
      "cell_type": "code",
      "metadata": {
        "id": "_6Mffyy5yKEB",
        "colab": {
          "base_uri": "https://localhost:8080/",
          "height": 351
        },
        "outputId": "f37d4c2d-40ec-4218-deea-676ca1576d70"
      },
      "source": [
        "%matplotlib inline\n",
        "import numpy as np\n",
        "import matplotlib.pyplot as plt\n",
        "import scipy.signal as sig\n",
        "\n",
        "N = 200  # length of segment\n",
        "M = 150 # stepsize\n",
        "L = 100  # total number of segments\n",
        "\n",
        "# generate random signal\n",
        "np.random.seed(5)\n",
        "x = np.random.normal(size=L*M)\n",
        "\n",
        "# compute periodogram by Welch's method\n",
        "nf, Pxx = sig.welch(x, window='hamming', nperseg=N, noverlap=(N-M))\n",
        "Pxx = .5*Pxx  # due to normalization in scipy.signal\n",
        "Om = 2*np.pi*nf\n",
        "\n",
        "# plot results\n",
        "plt.figure(figsize=(10,4))\n",
        "plt.stem(Om, Pxx, 'b', label=r'$\\hat{\\Phi}_{xx}(e^{j \\Omega})$', basefmt=' ')\n",
        "plt.plot(Om, np.ones_like(Pxx), 'r', label=r'$\\Phi_{xx}(e^{j \\Omega})$')\n",
        "plt.title('Estimated and true PSD')\n",
        "plt.xlabel(r'$\\Omega$')\n",
        "plt.axis([0, np.pi, 0, 2])\n",
        "plt.legend()\n",
        "\n",
        "# compute mean value of the periodogram\n",
        "print('Mean value of the periodogram: %f' %np.mean(np.abs(Pxx)))"
      ],
      "execution_count": null,
      "outputs": [
        {
          "output_type": "stream",
          "text": [
            "/usr/local/lib/python3.7/dist-packages/ipykernel_launcher.py:21: UserWarning: In Matplotlib 3.3 individual lines on a stem plot will be added as a LineCollection instead of individual lines. This significantly improves the performance of a stem plot. To remove this warning and switch to the new behaviour, set the \"use_line_collection\" keyword argument to True.\n"
          ],
          "name": "stderr"
        },
        {
          "output_type": "stream",
          "text": [
            "Mean value of the periodogram: 0.969440\n"
          ],
          "name": "stdout"
        },
        {
          "output_type": "display_data",
          "data": {
            "image/png": "[encoded data removed]",
            "text/plain": [
              "<Figure size 720x288 with 1 Axes>"
            ]
          },
          "metadata": {
            "tags": [],
            "needs_background": "light"
          }
        }
      ]
    },
    {
      "cell_type": "markdown",
      "metadata": {
        "id": "eyfTA4u02Ixj"
      },
      "source": [
        "**Exercise**\n",
        "\n",
        "* Compare the results to the periodogram example. Is the variance of the estimator lower?\n",
        "* Change the number of segments `L`. What changes?\n",
        "* Change the segment length `N` and stepsize `M`. What changes?\n",
        "\n",
        "* SOLUTION\n",
        "-The variance is lower because the welch's method divides the signal into overlapping segments and they are placed in the windows and individual periograms are created which are then averaged.\n",
        "- If I change the number of segments 'L' the variance change too.\n",
        "-if I change the segment lenght N, the number of discrete frequencies change, if I increase N and decrease M the number of frequencies change but the variance increase. If I increase M the signal don't change. \n",
        "\n",
        "Juan Jose Lopez Rendon."
      ]
    },
    {
      "cell_type": "markdown",
      "metadata": {
        "id": "PY19FVIkyKEF"
      },
      "source": [
        "### Evaluation\n",
        "\n",
        "It is shown in [[Stoica et al.](../index.ipynb#Literature)] that Welch's method is asymptotically unbiased. Under the assumption of a wide-sense stationary (WSS) random process, the periodograms $\\hat{\\Phi}_{xx,l}(e^{j \\Omega})$ of the segments can be assumed to be approximately uncorrelated. Hence, averaging over these reduces the overall variance of the estimator. It can be shown formally that in the limiting case of an infinitely number of segments (infintely long signal) the variance tends towards zero. As a result Welch's method is an asymptotically consistent estimator of the PSD. \n",
        "\n",
        "Note, that for a finite segment length $N$ the properties of the estimated PSD $\\hat{\\Phi}_{xx}(e^{j \\Omega})$ depend on the length $N$ of the segments and the window function $w[k]$ due to the [leakage effect](../spectral_analysis_deterministic_signals/leakage_effect.ipynb)."
      ]
    },
    {
      "cell_type": "markdown",
      "metadata": {
        "nbsphinx": "hidden",
        "id": "oL_9KwmoyKEI"
      },
      "source": [
        "**Copyright**\n",
        "\n",
        "This notebook is provided as [Open Educational Resource](https://en.wikipedia.org/wiki/Open_educational_resources). Feel free to use the notebook for your own purposes. The text is licensed under [Creative Commons Attribution 4.0](https://creativecommons.org/licenses/by/4.0/), the code of the IPython examples under the [MIT license](https://opensource.org/licenses/MIT). Please attribute the work as follows: *Sascha Spors, Digital Signal Processing - Lecture notes featuring computational examples, 2016-2018*."
      ]
    }
  ]
}