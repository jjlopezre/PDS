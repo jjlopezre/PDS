{
  "nbformat": 4,
  "nbformat_minor": 0,
  "metadata": {
    "kernelspec": {
      "display_name": "Python 3",
      "language": "python",
      "name": "python3"
    },
    "language_info": {
      "codemirror_mode": {
        "name": "ipython",
        "version": 3
      },
      "file_extension": ".py",
      "mimetype": "text/x-python",
      "name": "python",
      "nbconvert_exporter": "python",
      "pygments_lexer": "ipython3",
      "version": "3.6.4"
    },
    "colab": {
      "name": "4parametric_methods.ipynb",
      "provenance": [],
      "collapsed_sections": [],
      "include_colab_link": true
    }
  },
  "cells": [
    {
      "cell_type": "markdown",
      "metadata": {
        "id": "view-in-github",
        "colab_type": "text"
      },
      "source": [
        "<a href=\"https://colab.research.google.com/github/jjlopezre/PDS/blob/main/4parametric_methods.ipynb\" target=\"_parent\"><img src=\"https://colab.research.google.com/assets/colab-badge.svg\" alt=\"Open In Colab\"/></a>"
      ]
    },
    {
      "cell_type": "markdown",
      "metadata": {
        "nbsphinx": "hidden",
        "id": "tMWfn2eH_RlI"
      },
      "source": [
        "# Spectral Estimation of Random Signals\n",
        "\n",
        "*This jupyter/Python notebook is part of a [collection of notebooks](../index.ipynb) in the masters module [Digital Signal Processing](http://www.int.uni-rostock.de/Digitale-Signalverarbeitung.48.0.html), Comunications Engineering, Universität Rostock. Please direct questions and suggestions to <mailto:Sascha.Spors@uni-rostock.de>.*"
      ]
    },
    {
      "cell_type": "markdown",
      "metadata": {
        "id": "6VRdQn6p_RlM"
      },
      "source": [
        "## Parametric Methods"
      ]
    },
    {
      "cell_type": "markdown",
      "metadata": {
        "id": "E4aNOwT5_RlN"
      },
      "source": [
        "### Motivation\n",
        "\n",
        "Non-parametric methods for the estimation of the power spectral density (PSD), like the [periodogram](periodogram.ipynb) or [Welch's method](welch_method.ipynb), don't rely on a-priori information about the process generating the random signal. Often some a-priori information is available that can be used to formulate a parametric model of the random process. The goal is then to estimate these parameters in order to characterize the random signal. Such techniques are known as *[parametric methods](https://en.wikipedia.org/wiki/Spectral_density_estimation#Parametric_estimation)* or *model-based methods*. The incorporation of a-priori knowledge can improve the estimation of the PSD significantly, as long as the underlying model is a valid description of the random process. The parametric model of the random process can also be used to generate random signals with a desired PSD."
      ]
    },
    {
      "cell_type": "markdown",
      "metadata": {
        "id": "eFJHWiBn_RlP"
      },
      "source": [
        "### Process Models\n",
        "\n",
        "For the remainder we assume wide-sense stationary real-valued random processes. For many applications the process can be modeled by a linear-time invariant (LTI) system\n",
        "\n",
        "![Synthesis process model](https://github.com/amalvarezme/ProcesoDigitalSen/blob/master/PDS_Notebooks/spectral_estimation_random_signals/synthesis_model.png?raw=1)\n",
        "\n",
        "where $n[k]$ is [white noise](../random_signals/white_noise.ipynb) and $H(\\mathrm{e}^{\\,\\mathrm{j}\\,\\Omega})$ denotes the transfer function of the system. In general, the random signal $x[k]$ will be correlated as a result of the processing of the uncorrelated input signal $n[k]$ by the system $H(\\mathrm{e}^{\\,\\mathrm{j}\\,\\Omega})$. Due to the white noise assumption $\\Phi_{nn}(\\mathrm{e}^{\\,\\mathrm{j}\\,\\Omega}) = N_0$, the PSD of the random process is given as\n",
        "\n",
        "\\begin{equation}\n",
        "\\Phi_{xx}(\\mathrm{e}^{\\,\\mathrm{j}\\,\\Omega}) = N_0 \\cdot | H(\\mathrm{e}^{\\,\\mathrm{j}\\,\\Omega}) |^2\n",
        "\\end{equation}\n",
        "\n",
        "Parametric methods model the system $H(\\mathrm{e}^{\\,\\mathrm{j}\\,\\Omega})$ by a limited number of parameters. These parameters are then estimated from $x[k]$, providing an estimate $\\hat{H}(\\mathrm{e}^{\\,\\mathrm{j}\\,\\Omega})$ of the transfer function. This estimate is then used to calculate the desired estimate $\\hat{\\Phi}_{xx}(\\mathrm{e}^{\\,\\mathrm{j}\\,\\Omega})$ of the PSD."
      ]
    },
    {
      "cell_type": "markdown",
      "metadata": {
        "id": "tOeKrMOT_RlQ"
      },
      "source": [
        "#### Autoregressive model\n",
        "\n",
        "The [autoregressive](https://en.wikipedia.org/wiki/Autoregressive_model) (AR) model assumes a recursive system with a direct path. Its output relation is given as\n",
        "\n",
        "\\begin{equation}\n",
        "x[k] = \\sum_{n=1}^{N} a_n \\cdot x[k-n] + n[k]\n",
        "\\end{equation}\n",
        "\n",
        "where $a_n$ denote the coefficients of the recursive path and $N$ the order of the model. Its system function $H(z)$ is derived by $z$-transformation of the output relation\n",
        "\n",
        "\\begin{equation}\n",
        "H(z) = \\frac{1}{1 - \\sum_{n=1}^{N} a_n z^{-n}}\n",
        "\\end{equation}\n",
        "\n",
        "Hence, the AR model is a pole-only model of the system."
      ]
    },
    {
      "cell_type": "markdown",
      "metadata": {
        "id": "j5V2CoYE_RlR"
      },
      "source": [
        "#### Moving average model\n",
        "\n",
        "The [moving average](https://en.wikipedia.org/wiki/Moving-average_model) (MA) model assumes a non-recursive system. The output relation is given as\n",
        "\n",
        "\\begin{equation}\n",
        "x[k] = \\sum_{m=0}^{M-1} b_m \\cdot n[k-m] = h[k] * n[k]\n",
        "\\end{equation}\n",
        "\n",
        "with the impulse response of the system $h[k] = [ b_0, b_1, \\dots, b_{M-1} ]$. The MA model is a finite impulse response (FIR) model of the random process. Its system function is given as\n",
        "\n",
        "\\begin{equation}\n",
        "H(z) = \\mathcal{Z} \\{ h[k] \\} = \\sum_{m=0}^{M-1} b_m \\; z^{-m}\n",
        "\\end{equation}"
      ]
    },
    {
      "cell_type": "markdown",
      "metadata": {
        "id": "gi8JuyVJ_RlS"
      },
      "source": [
        "#### Autoregressive moving average model\n",
        "\n",
        "The [autoregressive moving average](https://en.wikipedia.org/wiki/Autoregressive%E2%80%93moving-average_model) (ARMA) model is a combination of the AR and MA model. It constitutes a general linear process model. Its output relation is given as\n",
        "\n",
        "\\begin{equation}\n",
        "x[k] = \\sum_{n=1}^{N} a_n \\cdot x[k-n] + \\sum_{m=0}^{M-1} b_m \\cdot n[k-m]\n",
        "\\end{equation}\n",
        "\n",
        "Its system function reads\n",
        "\n",
        "\\begin{equation}\n",
        "H(z) = \\frac{\\sum_{m=0}^{M-1} b_m \\; z^{-m}}{1 - \\sum_{n=1}^{N} a_n z^{-n}}\n",
        "\\end{equation}"
      ]
    },
    {
      "cell_type": "markdown",
      "metadata": {
        "id": "sSBOiYK0_RlU"
      },
      "source": [
        "### Parametric Spectral Estimation\n",
        "\n",
        "The models above describe the synthesis of the samples $x[k]$ from the white noise $n[k]$. For spectral estimation only the random signal $x[k]$ is known and we are aiming at estimating the parameters of the model. This can be achieved by determining an analyzing system $G(\\mathrm{e}^{\\,\\mathrm{j}\\,\\Omega})$ such to decorrelate the signal $x[k]$\n",
        "\n",
        "![Analysis process model](https://github.com/amalvarezme/ProcesoDigitalSen/blob/master/PDS_Notebooks/spectral_estimation_random_signals/analysis_model.png?raw=1)\n",
        "\n",
        "where $e[k]$ should be white noise. Due to its desired operation, the filter $G(\\mathrm{e}^{\\,\\mathrm{j}\\,\\Omega})$ is also denoted as *whitening filter*. The optimal filter $G(\\mathrm{e}^{\\,\\mathrm{j}\\,\\Omega})$ is given by the inverse system $\\frac{1}{H(\\mathrm{e}^{\\,\\mathrm{j}\\,\\Omega})}$. However, $H(\\mathrm{e}^{\\,\\mathrm{j}\\,\\Omega})$ is in general not known. But this nevertheless implies that our linear process model of $H(\\mathrm{e}^{\\,\\mathrm{j}\\,\\Omega})$ also applies to $G(\\mathrm{e}^{\\,\\mathrm{j}\\,\\Omega})$. Various techniques have been developed to estimate the parameters of the filter $G(\\mathrm{e}^{\\,\\mathrm{j}\\,\\Omega})$ such that $e[k]$ becomes decorrelated. For instance, by expressing the auto-correlation function (ACF) $\\varphi_{xx}[\\kappa]$ in terms of the model parameters and solving with respect to these. The underlying set of equations are known as [Yule-Walker equations](https://en.wikipedia.org/wiki/Autoregressive_model#Yule-Walker_equations).\n",
        "\n",
        "Once the model parameters have been estimated, these can be used to calculate an estimate $\\hat{G}(\\mathrm{e}^{\\,\\mathrm{j}\\,\\Omega})$ of the analysis system. The desired estimate of the PSD is then given as\n",
        "\n",
        "\\begin{equation}\n",
        "\\hat{\\Phi}_{xx}(\\mathrm{e}^{\\,\\mathrm{j}\\,\\Omega}) = \\frac{\\Phi_{ee}(\\mathrm{e}^{\\,\\mathrm{j}\\,\\Omega})}{|\\hat{G}(\\mathrm{e}^{\\,\\mathrm{j}\\,\\Omega})|^2}\n",
        "\\end{equation}\n",
        "\n",
        "where if $e[k]$ is white noise, $\\Phi_{ee}(\\mathrm{e}^{\\,\\mathrm{j}\\,\\Omega}) = N_0$."
      ]
    },
    {
      "cell_type": "markdown",
      "metadata": {
        "id": "tqBgaiPf_RlX"
      },
      "source": [
        "### Example\n",
        "\n",
        "In the follwing example $n[k]$ is drawn from normal distributed white noise with $N_0 = 1$. The Yule-Walker equations are used to estimate the parameters of an AR model of $H(\\mathrm{e}^{\\,\\mathrm{j}\\,\\Omega})$. The implementation provided by `statsmodels.api.regression.yule_walker` returns the estimated AR coefficients of the system $H(\\mathrm{e}^{\\,\\mathrm{j}\\,\\Omega})$. These parameters are then used to numerically evaluate the estimated transfer function, resulting in $\\hat{\\Phi}_{xx}(\\mathrm{e}^{\\,\\mathrm{j}\\,\\Omega}) = 1 \\cdot | \\hat{H}(\\mathrm{e}^{\\,\\mathrm{j}\\,\\Omega}) |^2 $."
      ]
    },
    {
      "cell_type": "code",
      "metadata": {
        "id": "fhl3mv98_RlZ",
        "colab": {
          "base_uri": "https://localhost:8080/",
          "height": 340
        },
        "outputId": "32a126c2-2122-435c-d90d-3c2f26fd832e"
      },
      "source": [
        "%matplotlib inline\n",
        "import numpy as np\n",
        "import matplotlib.pyplot as plt\n",
        "import statsmodels.api as sm\n",
        "import scipy.signal as sig\n",
        "\n",
        "\n",
        "K = 1000 # length of random signal\n",
        "N = 6 # order of AR model\n",
        "a = np.array((1, -1, .5))  # coefficients of AR model\n",
        "\n",
        "# generate random signal n[k]\n",
        "np.random.seed(2)\n",
        "n = np.random.normal(size=K)\n",
        "\n",
        "# AR model for random signal x[k]\n",
        "x = np.zeros(K)\n",
        "for k in np.arange(3, K):\n",
        "    x[k] = a[0]*x[k-1] + a[1]*x[k-2] + a[2]*x[k-3] + n[k]\n",
        "    \n",
        "# estimate AR parameters by Yule-Walker method\n",
        "rho, sigma = sm.regression.yule_walker(x, order=N, method='mle')\n",
        "\n",
        "# compute true and estimated transfer function\n",
        "Om, H = sig.freqz(1, np.insert(-a, 0, 1))\n",
        "Om, He = sig.freqz(1, np.insert(-rho, 0, 1))\n",
        "# compute PSD by Welch method\n",
        "Om2, Pxx = sig.welch(x, return_onesided=True)\n",
        "\n",
        "# plot PSDs\n",
        "plt.figure(figsize=(10,5))\n",
        "plt.plot(Om, np.abs(H)**2, label=r'$\\Phi_{xx}(e^{j\\Omega})$')\n",
        "plt.plot(Om2*2*np.pi, .5*np.abs(Pxx), 'k-', alpha=.5 , label=r'$\\hat{\\Phi}_{xx}(e^{j\\Omega})$ (Welch)')\n",
        "plt.plot(Om, np.abs(He)**2, label=r'$\\hat{\\Phi}_{xx}(e^{j\\Omega})$ (parametric)')\n",
        "\n",
        "plt.xlabel(r'$\\Omega$')\n",
        "plt.axis([0, np.pi, 0, 20])\n",
        "plt.legend()\n",
        "plt.grid()"
      ],
      "execution_count": null,
      "outputs": [
        {
          "output_type": "display_data",
          "data": {
            "image/png": "[encoded data removed]",
            "text/plain": [
              "<Figure size 720x360 with 1 Axes>"
            ]
          },
          "metadata": {
            "needs_background": "light"
          }
        }
      ]
    },
    {
      "cell_type": "markdown",
      "metadata": {
        "id": "-qCuDWH0_Rlc"
      },
      "source": [
        ""
      ]
    },
    {
      "cell_type": "markdown",
      "metadata": {
        "id": "qzhwI63zWEwd"
      },
      "source": [
        "**Exercise**\n",
        "\n",
        "* Change the order `N` of the AR model used for estimation by the Yule-Walker equations. What happens if the order is smaller or higher than the order of the true system? Why?\n",
        "\n",
        "* Change the number of samples `K`. Is the estimator consistent?\n",
        "\n",
        "- If the order N is smaller the model breakdown because the model does not enought to stimate the true process and if the order is higher the model fits and everytime is more similar to the true process because some coefficients are approximately to zero for the order lower of the process.\n",
        "\n",
        "- If the Value of samples `K` is higher, both conditions are check the variance and bias are lower so it's a estimator consistent.\n",
        "\n",
        "**Juan Jose Lopez Rendon**"
      ]
    },
    {
      "cell_type": "markdown",
      "metadata": {
        "nbsphinx": "hidden",
        "id": "zIUsNOYl_Rld"
      },
      "source": [
        "**Copyright**\n",
        "\n",
        "This notebook is provided as [Open Educational Resource](https://en.wikipedia.org/wiki/Open_educational_resources). Feel free to use the notebook for your own purposes. The text is licensed under [Creative Commons Attribution 4.0](https://creativecommons.org/licenses/by/4.0/), the code of the IPython examples under the [MIT license](https://opensource.org/licenses/MIT). Please attribute the work as follows: *Sascha Spors, Digital Signal Processing - Lecture notes featuring computational examples, 2016-2018*."
      ]
    }
  ]
}